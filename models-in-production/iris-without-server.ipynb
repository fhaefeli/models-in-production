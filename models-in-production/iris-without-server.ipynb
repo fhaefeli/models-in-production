{
 "cells": [
  {
   "cell_type": "markdown",
   "metadata": {},
   "source": [
    "# Iris flower classifier (serverless version)"
   ]
  },
  {
   "cell_type": "markdown",
   "metadata": {},
   "source": [
    "## Limpieza del ambiente anterior\n",
    "- Retornar el código a la versión Scikit-learn \"con server\" `git reset --hard`\n",
    "- Desactivar el virtual environment y borrarlo `deactivate && rm -rf env`\n",
    "- Comentar `from tensorflow.keras.models import model_from_json` en `predictions.py` No lo vamos a usar en esta versión\n",
    "\n",
    "## Creacion del nuevo ambiente\n",
    "- Crear un nuevo virtual environment\n",
    "```bash\n",
    "virtualenv env --python=python3.11\n",
    "source env/bin/activate\n",
    "pip install -r requirements-zappa.txt\n",
    "```\n",
    "- Probar la aplicacion en este nuevo ambiente (siempre)\n",
    "- http://localhost:5000/classify?sepal_length=5.1&sepal_width=3.5&petal_length=1.4&petal_width=0.2\n",
    "- Instalar zappa `pip install zappa`\n",
    "- Configurar `zappa init`\n",
    "- Hay que agregar tres atributos por las restricciones de crear roles de AWS Academy\n",
    "```json\n",
    "        \"manage_roles\": false,\n",
    "        \"role\": \"c130392a3302578l7326283t1w02017984457-LambdaSLRRole-ULqaj5OCm0DQ\", // O algo parecido en sus cuentas\n",
    "        \"role_name\": \"LabRole\",\n",
    "        \"slim_handler\": true\n",
    "```\n",
    "- Correr el primer deploy `zappa deploy dev`\n",
    "- https://4j4x4rgjkd.execute-api.us-east-2.amazonaws.com/dev/classify?sepal_length=5.1&sepal_width=3.5&petal_length=1.4&petal_width=0.2"
   ]
  },
  {
   "cell_type": "markdown",
   "metadata": {},
   "source": [
    "## Mantenimiento\n",
    "- Inspeccionar logs `zappa tail dev`\n",
    "- Updates posteriores `zappa update dev`\n",
    "- Limpieza del entorno `zappa undeploy dev`"
   ]
  },
  {
   "cell_type": "markdown",
   "metadata": {},
   "source": [
    "## Limpieza\n",
    "- Borrar el bucket creado por Zappa\n",
    "- Borrar los .zip generados por Zappa\n",
    "- Borrar el Virtual Environment"
   ]
  }
 ],
 "metadata": {
  "kernelspec": {
   "display_name": "env-itba-3.11",
   "language": "python",
   "name": "python3"
  },
  "language_info": {
   "codemirror_mode": {
    "name": "ipython",
    "version": 3
   },
   "file_extension": ".py",
   "mimetype": "text/x-python",
   "name": "python",
   "nbconvert_exporter": "python",
   "pygments_lexer": "ipython3",
   "version": "3.11.9"
  }
 },
 "nbformat": 4,
 "nbformat_minor": 4
}
